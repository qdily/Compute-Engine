{
 "cells": [
  {
   "cell_type": "code",
   "execution_count": null,
   "id": "3b014873-ed77-417b-83b4-94fcda99399c",
   "metadata": {},
   "outputs": [],
   "source": [
    "import joblib\n",
    "import json\n",
    "\n",
    "# Save your best trained model\n",
    "joblib.dump(best_model_tree, 'model.pkl')\n",
    "\n",
    "# Save the column preprocessing info\n",
    "columns = {\n",
    "    'ordinal_col': ['loan_grade'],\n",
    "    'ordinal_map': [['A', 'B', 'C', 'D', 'E', 'F', 'G']],\n",
    "    'dummy_cols': ['person_home_ownership', 'loan_intent'],\n",
    "    'passthrough_cols': ['cb_person_default_on_file']\n",
    "}\n",
    "\n",
    "with open('column_info.json', 'w') as f:\n",
    "    json.dump(columns, f)"
   ]
  }
 ],
 "metadata": {
  "kernelspec": {
   "display_name": "Python 3 (ipykernel)",
   "language": "python",
   "name": "python3"
  },
  "language_info": {
   "codemirror_mode": {
    "name": "ipython",
    "version": 3
   },
   "file_extension": ".py",
   "mimetype": "text/x-python",
   "name": "python",
   "nbconvert_exporter": "python",
   "pygments_lexer": "ipython3",
   "version": "3.12.2"
  }
 },
 "nbformat": 4,
 "nbformat_minor": 5
}
